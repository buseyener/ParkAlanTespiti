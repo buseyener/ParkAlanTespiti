{
 "cells": [
  {
   "cell_type": "code",
   "execution_count": 5,
   "id": "c7dbe8f6-8333-4620-bb9e-ccbbd11796ab",
   "metadata": {},
   "outputs": [
    {
     "name": "stdout",
     "output_type": "stream",
     "text": [
      "Video sona erdi veya okunamadı.\n"
     ]
    }
   ],
   "source": [
    "import cv2\n",
    "import pickle\n",
    "import numpy as np \n",
    "\n",
    "# Noktaları dosyadan yükle\n",
    "try:\n",
    "    with open(\"noktalar\", \"rb\") as f:\n",
    "        liste = pickle.load(f)\n",
    "except FileNotFoundError:\n",
    "    liste = []\n",
    "\n",
    "# Video kaynağını aç\n",
    "cap = cv2.VideoCapture(\"video.mp4\")\n",
    "\n",
    "def check(frame1):\n",
    "    spacecounter = 0\n",
    "    for pos in liste:\n",
    "        x, y = pos\n",
    "\n",
    "        crop = frame1[y:y + 15, x:x + 26]\n",
    "        count = cv2.countNonZero(crop)\n",
    "\n",
    "        if count < 150:\n",
    "            color = (0, 255, 0)  # Boş alan\n",
    "            spacecounter += 1\n",
    "        else:\n",
    "            color = (0, 0, 255)  # Dolu alan\n",
    "        \n",
    "        # Her bir dikdörtgeni çiz\n",
    "        cv2.rectangle(frame, (x, y), (x + 26, y + 15), color, 2)\n",
    "\n",
    "    # Boş alan sayısını ekrana yazdır\n",
    "    cv2.putText(frame, f\"bos: {spacecounter}/{len(liste)}\", (15, 24), cv2.FONT_HERSHEY_SIMPLEX, 1, (255, 0, 0), 4)\n",
    "\n",
    "# Ana döngü\n",
    "while True:\n",
    "    # Video karesini oku\n",
    "    ret, frame = cap.read()\n",
    "    if not ret:  # Video bittiğinde döngüyü kır\n",
    "        print(\"Video sona erdi veya okunamadı.\")\n",
    "        break\n",
    "\n",
    "    # Görüntü işleme adımları\n",
    "    gri = cv2.cvtColor(frame, cv2.COLOR_BGR2GRAY)\n",
    "    blur = cv2.GaussianBlur(gri, (3, 3), 1)\n",
    "    thres = cv2.adaptiveThreshold(blur, 255, cv2.ADAPTIVE_THRESH_GAUSSIAN_C, cv2.THRESH_BINARY_INV, 25, 16)\n",
    "    median = cv2.medianBlur(thres, 5)\n",
    "    dilates = cv2.dilate(median, np.ones((3, 3)), iterations=1)\n",
    "\n",
    "    # Kontrol fonksiyonunu çağır\n",
    "    check(dilates)\n",
    "    \n",
    "    # Görüntüyü göster\n",
    "    cv2.imshow(\"asd\", frame)\n",
    "\n",
    "    # 'q' tuşuna basılırsa döngüyü sonlandır\n",
    "    if cv2.waitKey(1) & 0xFF == ord(\"q\"):\n",
    "        break\n",
    "\n",
    "# Pencereleri kapat\n",
    "cap.release()\n",
    "cv2.destroyAllWindows()\n"
   ]
  },
  {
   "cell_type": "code",
   "execution_count": null,
   "id": "361cf377-4098-4278-8e3d-46cca883e022",
   "metadata": {},
   "outputs": [],
   "source": []
  },
  {
   "cell_type": "code",
   "execution_count": null,
   "id": "d520a0c7-6922-47d3-ac08-9519dedb1554",
   "metadata": {},
   "outputs": [],
   "source": []
  }
 ],
 "metadata": {
  "kernelspec": {
   "display_name": "Python 3 (ipykernel)",
   "language": "python",
   "name": "python3"
  },
  "language_info": {
   "codemirror_mode": {
    "name": "ipython",
    "version": 3
   },
   "file_extension": ".py",
   "mimetype": "text/x-python",
   "name": "python",
   "nbconvert_exporter": "python",
   "pygments_lexer": "ipython3",
   "version": "3.12.2"
  }
 },
 "nbformat": 4,
 "nbformat_minor": 5
}
